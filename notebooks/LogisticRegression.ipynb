{
 "cells": [
  {
   "cell_type": "code",
   "execution_count": 46,
   "id": "84241a13",
   "metadata": {},
   "outputs": [],
   "source": [
    "import pandas as pd\n",
    "from sklearn.model_selection import  GridSearchCV\n",
    "from sklearn.feature_extraction.text import TfidfVectorizer\n",
    "from sklearn.preprocessing import OneHotEncoder\n",
    "from sklearn.compose import ColumnTransformer\n",
    "from sklearn.pipeline import Pipeline\n",
    "from sklearn.linear_model import LogisticRegression\n",
    "from sklearn.metrics import classification_report , accuracy_score\n",
    "\n",
    "\n"
   ]
  },
  {
   "cell_type": "code",
   "execution_count": 42,
   "id": "9622c64b",
   "metadata": {},
   "outputs": [],
   "source": [
    "# Charger les données\n",
    "df = pd.read_csv('..\\\\data\\\\processed\\\\train_optimized_v3.csv')\n",
    "\n",
    "df_test = pd.read_csv('..\\\\data\\\\raw\\\\test_tweets.csv')\n",
    "df_test[\"text_cleaned\"] = df_test[\"text\"] \n",
    "\n",
    "X = df[[\"text_cleaned\", \"keyword\"]]\n",
    "y = df['target']\n",
    "X_test = df_test[[\"text_cleaned\", \"keyword\"]]\n",
    "y_test = df_test['target']\n",
    "\n"
   ]
  },
  {
   "cell_type": "code",
   "execution_count": 43,
   "id": "2e50d379",
   "metadata": {},
   "outputs": [],
   "source": [
    "# Prétraitement : Tfidf sur text, OneHot sur keyword\n",
    "preprocessor = ColumnTransformer([\n",
    "    (\"tfidf\", TfidfVectorizer(), \"text_cleaned\"),\n",
    "    (\"ohe\", OneHotEncoder(handle_unknown=\"ignore\", sparse_output=True), [\"keyword\"])\n",
    "])\n",
    "\n",
    "# Pipeline complet\n",
    "pipeline = Pipeline([\n",
    "    (\"preprocessing\", preprocessor),\n",
    "    (\"classifier\", LogisticRegression(max_iter=1000))\n",
    "])\n",
    "\n",
    "# Grille d’hyperparamètres à tester\n",
    "param_grid = {\n",
    "    \"preprocessing__tfidf__ngram_range\": [(1,1), (1,2)],\n",
    "    \"classifier__C\": [0.1, 1, 10],\n",
    "    \"classifier__penalty\": [\"l2\"]\n",
    "}\n",
    "\n",
    "\n"
   ]
  },
  {
   "cell_type": "code",
   "execution_count": 44,
   "id": "88e3f3ca",
   "metadata": {},
   "outputs": [
    {
     "name": "stdout",
     "output_type": "stream",
     "text": [
      "Meilleurs paramètres : {'classifier__C': 1, 'classifier__penalty': 'l2', 'preprocessing__tfidf__ngram_range': (1, 1)}\n",
      "Score de validation : 0.7898863818210914\n"
     ]
    }
   ],
   "source": [
    "# GridSearchCV\n",
    "grid = GridSearchCV(pipeline, param_grid, cv=3, scoring=\"accuracy\", n_jobs=-1)\n",
    "grid.fit(X, y)\n",
    "\n",
    "# Résultats\n",
    "print(\"Meilleurs paramètres :\", grid.best_params_)\n",
    "print(\"Score de validation :\", grid.best_score_)"
   ]
  },
  {
   "cell_type": "markdown",
   "id": "8efd4dcb",
   "metadata": {},
   "source": [
    "### Maintenant que nous avons les paramètres les plus optimisés ( accuracy de 0,78), nous allons entrainer le modèle de regression logistique "
   ]
  },
  {
   "cell_type": "code",
   "execution_count": 47,
   "id": "d8200c53",
   "metadata": {},
   "outputs": [
    {
     "name": "stdout",
     "output_type": "stream",
     "text": [
      "Accuracy sur le test : 0.7995\n",
      "Rapport de classification :\n",
      "              precision    recall  f1-score   support\n",
      "\n",
      "           0       0.78      0.91      0.84       435\n",
      "           1       0.85      0.65      0.74       328\n",
      "\n",
      "    accuracy                           0.80       763\n",
      "   macro avg       0.81      0.78      0.79       763\n",
      "weighted avg       0.81      0.80      0.79       763\n",
      "\n"
     ]
    }
   ],
   "source": [
    "#création du model entrainé avec les meilleurs hyperparamètres \n",
    "\n",
    "model = grid.best_estimator_\n",
    "\n",
    "y_pred = model.predict(X_test)\n",
    "acc = accuracy_score(y_test, y_pred)\n",
    "print(f\"Accuracy sur le test : {acc:.4f}\")\n",
    "\n",
    "print(\"Rapport de classification :\")\n",
    "print(classification_report(y_test, y_pred))"
   ]
  }
 ],
 "metadata": {
  "kernelspec": {
   "display_name": "base",
   "language": "python",
   "name": "python3"
  },
  "language_info": {
   "codemirror_mode": {
    "name": "ipython",
    "version": 3
   },
   "file_extension": ".py",
   "mimetype": "text/x-python",
   "name": "python",
   "nbconvert_exporter": "python",
   "pygments_lexer": "ipython3",
   "version": "3.11.7"
  }
 },
 "nbformat": 4,
 "nbformat_minor": 5
}
