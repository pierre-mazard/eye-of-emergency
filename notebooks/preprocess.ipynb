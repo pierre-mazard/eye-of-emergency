{
 "cells": [
  {
   "cell_type": "code",
   "execution_count": null,
   "id": "f4926c05",
   "metadata": {},
   "outputs": [],
   "source": [
    "import pandas as pd\n",
    "import sys\n",
    "sys.path.append(\"../src\")\n",
    "from preprocessing import clean_text, clean_punctuation, lemmatize"
   ]
  },
  {
   "cell_type": "code",
   "execution_count": null,
   "id": "2060208c",
   "metadata": {},
   "outputs": [],
   "source": [
    "# Initialisation \n",
    "df = pd.read_csv(\"data/processed/train_optimized_v3.csv\", index_col='id', encoding='utf-8')"
   ]
  },
  {
   "cell_type": "code",
   "execution_count": null,
   "id": "68e4b099",
   "metadata": {},
   "outputs": [],
   "source": [
    "processed_csv = df.copy()\n",
    "processed_csv['text_cleaned'] = processed_csv['text_cleaned'].apply(preprocess_text)\n",
    "\n",
    "processed_csv.to_csv(\"data//processed//processed_train_tweets.csv\", index=False, encoding='utf-8')\n",
    "\n",
    "\n",
    "\n"
   ]
  }
 ],
 "metadata": {
  "kernelspec": {
   "display_name": "base",
   "language": "python",
   "name": "python3"
  },
  "language_info": {
   "codemirror_mode": {
    "name": "ipython",
    "version": 3
   },
   "file_extension": ".py",
   "mimetype": "text/x-python",
   "name": "python",
   "nbconvert_exporter": "python",
   "pygments_lexer": "ipython3",
   "version": "3.12.4"
  }
 },
 "nbformat": 4,
 "nbformat_minor": 5
}
