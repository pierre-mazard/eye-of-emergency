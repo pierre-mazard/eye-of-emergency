{
 "cells": [
  {
   "cell_type": "markdown",
   "id": "3a299587",
   "metadata": {},
   "source": [
    "# Eye of Emergency 🚨 - Analyse des Tweets de Catastrophes\n",
    "\n",
    "## Objectif du projet\n",
    "Développement d'un modèle d'apprentissage automatique capable de classer des tweets signalant des catastrophes naturelles réelles pour aider les intervenants d'urgence et le public à accéder à des informations précises et fiables en période de crise.\n",
    "\n"
   ]
  }
 ],
 "metadata": {
  "language_info": {
   "name": "python"
  }
 },
 "nbformat": 4,
 "nbformat_minor": 5
}
