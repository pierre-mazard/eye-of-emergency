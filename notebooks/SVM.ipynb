{
 "cells": [
  {
   "cell_type": "code",
   "execution_count": 4,
   "id": "9b44c04b",
   "metadata": {},
   "outputs": [],
   "source": [
    "import pandas as pd \n",
    "from sklearn.compose import ColumnTransformer\n",
    "from sklearn.pipeline import Pipeline\n",
    "from sklearn.feature_extraction.text import TfidfVectorizer\n",
    "from sklearn.svm import SVC\n",
    "from sklearn.model_selection import GridSearchCV, train_test_split\n",
    "from sklearn.preprocessing import StandardScaler\n"
   ]
  },
  {
   "cell_type": "code",
   "execution_count": 17,
   "id": "8d0fdf80",
   "metadata": {},
   "outputs": [
    {
     "name": "stderr",
     "output_type": "stream",
     "text": [
      "C:\\Users\\ilyes\\AppData\\Local\\Temp\\ipykernel_19740\\2005862938.py:11: SettingWithCopyWarning: \n",
      "A value is trying to be set on a copy of a slice from a DataFrame.\n",
      "Try using .loc[row_indexer,col_indexer] = value instead\n",
      "\n",
      "See the caveats in the documentation: https://pandas.pydata.org/pandas-docs/stable/user_guide/indexing.html#returning-a-view-versus-a-copy\n",
      "  X_test['keyword'] = X_test['keyword'].fillna('')\n"
     ]
    }
   ],
   "source": [
    "df = pd.read_csv('..\\\\data\\\\processed\\\\train_optimized.csv')\n",
    "df_test = pd.read_csv('..\\\\data\\\\processed\\\\test_cleaned.csv')\n",
    "\n",
    "X = df.drop(['id', 'target'], axis=1)\n",
    "y = df['target'] \n",
    "\n",
    "X_test = df_test[['text_cleaned', 'keyword']]\n",
    "y_test = df_test['target']\n",
    "\n",
    "# Fill NaN values in 'keyword' column with empty string\n",
    "X_test['keyword'] = X_test['keyword'].fillna('')\n",
    "\n",
    "# 📝 Conservation pour analyse\n",
    "text_data = df['text_cleaned']\n",
    "metadata = df[['id', 'text_cleaned']]"
   ]
  },
  {
   "cell_type": "code",
   "execution_count": 6,
   "id": "229efba7",
   "metadata": {},
   "outputs": [],
   "source": [
    "preprocessor = ColumnTransformer(transformers=[\n",
    "    ('text_cleaned', TfidfVectorizer(), 'text_cleaned'),\n",
    "    ('keyword', TfidfVectorizer(), 'keyword')\n",
    "])\n",
    "\n",
    "pipeline = Pipeline([\n",
    "    ('preprocessor', preprocessor),\n",
    "    ('svm', SVC(probability=True))\n",
    "])\n",
    "\n",
    "param_grid = {\n",
    "    'tfidf__max_df': [0.9, 1.0],\n",
    "    'tfidf__ngram_range': [(1, 1), (1, 2)],\n",
    "    'svm__C': [0.1, 1, 10],\n",
    "    'svm__kernel': ['linear', 'rbf'],\n",
    "    'svm__class_weight': [None, 'balanced']\n",
    "}"
   ]
  },
  {
   "cell_type": "code",
   "execution_count": 8,
   "id": "e0ffda70",
   "metadata": {},
   "outputs": [
    {
     "name": "stdout",
     "output_type": "stream",
     "text": [
      "Fitting 5 folds for each of 6 candidates, totalling 30 fits\n",
      "Meilleurs paramètres : {'svm__C': 1, 'svm__class_weight': 'balanced', 'svm__kernel': 'linear'}\n",
      "Meilleur F1-score : 0.7279646815862899\n"
     ]
    }
   ],
   "source": [
    "param_grid = {\n",
    "    'svm__C': [0.1, 1, 10],\n",
    "    'svm__kernel': ['linear'],\n",
    "    'svm__class_weight': [None, 'balanced']\n",
    "}\n",
    "\n",
    "grid = GridSearchCV(\n",
    "    pipeline,\n",
    "    param_grid,\n",
    "    scoring='f1',\n",
    "    cv=5,\n",
    "    verbose=2,\n",
    "    n_jobs=-1\n",
    ")\n",
    "\n",
    "grid.fit(X, y)\n",
    "print(\"Meilleurs paramètres :\", grid.best_params_)\n",
    "print(\"Meilleur F1-score :\", grid.best_score_)"
   ]
  },
  {
   "cell_type": "code",
   "execution_count": 20,
   "id": "41b99349",
   "metadata": {},
   "outputs": [
    {
     "name": "stdout",
     "output_type": "stream",
     "text": [
      "Accuracy sur le jeu de test : 0.7971\n",
      "Classification Report:\n",
      "              precision    recall  f1-score   support\n",
      "\n",
      "           0       0.83      0.81      0.82       430\n",
      "           1       0.75      0.78      0.77       319\n",
      "\n",
      "    accuracy                           0.80       749\n",
      "   macro avg       0.79      0.79      0.79       749\n",
      "weighted avg       0.80      0.80      0.80       749\n",
      "\n",
      "Confusion Matrix:\n",
      "[[349  81]\n",
      " [ 71 248]]\n"
     ]
    }
   ],
   "source": [
    "\n",
    "\n",
    "model = grid.best_estimator_\n",
    "\n",
    "y_pred = model.predict(X_test)\n",
    "\n",
    "accuracy = (y_pred == y_test).mean()\n",
    "print(f\"Accuracy sur le jeu de test : {accuracy:.4f}\")\n",
    "from sklearn.metrics import classification_report, confusion_matrix\n",
    "print(\"Classification Report:\")\n",
    "print(classification_report(y_test, y_pred))\n",
    "print(\"Confusion Matrix:\")\n",
    "print(confusion_matrix(y_test, y_pred))"
   ]
  }
 ],
 "metadata": {
  "kernelspec": {
   "display_name": "base",
   "language": "python",
   "name": "python3"
  },
  "language_info": {
   "codemirror_mode": {
    "name": "ipython",
    "version": 3
   },
   "file_extension": ".py",
   "mimetype": "text/x-python",
   "name": "python",
   "nbconvert_exporter": "python",
   "pygments_lexer": "ipython3",
   "version": "3.11.7"
  }
 },
 "nbformat": 4,
 "nbformat_minor": 5
}
