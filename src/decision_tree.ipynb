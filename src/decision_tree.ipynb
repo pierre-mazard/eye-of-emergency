{
 "cells": [
  {
   "cell_type": "markdown",
   "id": "683acddf",
   "metadata": {},
   "source": [
    "# Algorithme de decision tree\n",
    "\n",
    "1. Choix de la variable racine\n",
    "celle qui permet de mieux séparer les données\n",
    "- teste chaque variable seule\n",
    "- sélectionne celle qui donne des feuilles avec la plus faible impureté\n",
    "\n",
    "**Feuille pure** ne contient que des 1 ou que des 0\n",
    "**Feuille impure** contient un mélange de 1 et de 0\n",
    "\n",
    "**Gini Impurity d’une feuille** = $\n",
    "1 - P(\\text{oui})^2 - P(\\text{non})^2\n",
    "$"
   ]
  },
  {
   "cell_type": "code",
   "execution_count": 56,
   "id": "728fcf71",
   "metadata": {},
   "outputs": [],
   "source": [
    "import pandas as pd\n",
    "import numpy as np\n",
    "import matplotlib.pyplot as plt\n",
    "import os"
   ]
  },
  {
   "cell_type": "code",
   "execution_count": 31,
   "id": "f13115c4",
   "metadata": {},
   "outputs": [],
   "source": [
    "df =    pd.read_csv('../data/processed/train_optimized_v3.csv')\n",
    "y = df['target']\n",
    "X = df.drop([\"target\", \"id\"], axis=1)"
   ]
  },
  {
   "cell_type": "code",
   "execution_count": 32,
   "id": "39609f06",
   "metadata": {},
   "outputs": [
    {
     "data": {
      "text/html": [
       "<div>\n",
       "<style scoped>\n",
       "    .dataframe tbody tr th:only-of-type {\n",
       "        vertical-align: middle;\n",
       "    }\n",
       "\n",
       "    .dataframe tbody tr th {\n",
       "        vertical-align: top;\n",
       "    }\n",
       "\n",
       "    .dataframe thead th {\n",
       "        text-align: right;\n",
       "    }\n",
       "</style>\n",
       "<table border=\"1\" class=\"dataframe\">\n",
       "  <thead>\n",
       "    <tr style=\"text-align: right;\">\n",
       "      <th></th>\n",
       "      <th>keyword</th>\n",
       "      <th>text_cleaned</th>\n",
       "      <th>text_length</th>\n",
       "      <th>word_count</th>\n",
       "      <th>char_count</th>\n",
       "      <th>has_emergency_word</th>\n",
       "      <th>emergency_word_count</th>\n",
       "      <th>emergency_density</th>\n",
       "      <th>has_url</th>\n",
       "      <th>url_count</th>\n",
       "      <th>has_mention</th>\n",
       "      <th>mention_count</th>\n",
       "      <th>exclamation_count</th>\n",
       "      <th>intense_punctuation</th>\n",
       "      <th>avg_word_length</th>\n",
       "      <th>urgency_score</th>\n",
       "      <th>stopword_ratio</th>\n",
       "      <th>keyword_in_text</th>\n",
       "    </tr>\n",
       "  </thead>\n",
       "  <tbody>\n",
       "    <tr>\n",
       "      <th>0</th>\n",
       "      <td>weapon</td>\n",
       "      <td>mention_token changing my weapon!</td>\n",
       "      <td>33</td>\n",
       "      <td>4</td>\n",
       "      <td>33</td>\n",
       "      <td>False</td>\n",
       "      <td>0</td>\n",
       "      <td>0.000000</td>\n",
       "      <td>False</td>\n",
       "      <td>0</td>\n",
       "      <td>True</td>\n",
       "      <td>1</td>\n",
       "      <td>1</td>\n",
       "      <td>0</td>\n",
       "      <td>7.500000</td>\n",
       "      <td>1.5</td>\n",
       "      <td>0.250000</td>\n",
       "      <td>True</td>\n",
       "    </tr>\n",
       "    <tr>\n",
       "      <th>1</th>\n",
       "      <td>famine</td>\n",
       "      <td>url_token russian food crematoria provoke outr...</td>\n",
       "      <td>115</td>\n",
       "      <td>11</td>\n",
       "      <td>87</td>\n",
       "      <td>True</td>\n",
       "      <td>1</td>\n",
       "      <td>0.090909</td>\n",
       "      <td>True</td>\n",
       "      <td>2</td>\n",
       "      <td>False</td>\n",
       "      <td>0</td>\n",
       "      <td>0</td>\n",
       "      <td>0</td>\n",
       "      <td>7.000000</td>\n",
       "      <td>0.5</td>\n",
       "      <td>0.000000</td>\n",
       "      <td>True</td>\n",
       "    </tr>\n",
       "    <tr>\n",
       "      <th>2</th>\n",
       "      <td>disaster</td>\n",
       "      <td>the mention_token quote website disaster. trie...</td>\n",
       "      <td>143</td>\n",
       "      <td>22</td>\n",
       "      <td>153</td>\n",
       "      <td>True</td>\n",
       "      <td>1</td>\n",
       "      <td>0.045455</td>\n",
       "      <td>False</td>\n",
       "      <td>0</td>\n",
       "      <td>True</td>\n",
       "      <td>1</td>\n",
       "      <td>0</td>\n",
       "      <td>0</td>\n",
       "      <td>6.000000</td>\n",
       "      <td>0.0</td>\n",
       "      <td>0.181818</td>\n",
       "      <td>True</td>\n",
       "    </tr>\n",
       "    <tr>\n",
       "      <th>3</th>\n",
       "      <td>bombing</td>\n",
       "      <td>mention_token mention_token mention_token cong...</td>\n",
       "      <td>140</td>\n",
       "      <td>19</td>\n",
       "      <td>151</td>\n",
       "      <td>True</td>\n",
       "      <td>1</td>\n",
       "      <td>0.052632</td>\n",
       "      <td>False</td>\n",
       "      <td>0</td>\n",
       "      <td>True</td>\n",
       "      <td>2</td>\n",
       "      <td>0</td>\n",
       "      <td>0</td>\n",
       "      <td>7.000000</td>\n",
       "      <td>0.0</td>\n",
       "      <td>0.263158</td>\n",
       "      <td>True</td>\n",
       "    </tr>\n",
       "    <tr>\n",
       "      <th>4</th>\n",
       "      <td>pandemonium</td>\n",
       "      <td>world class tgirl ass small_num - scene small_...</td>\n",
       "      <td>71</td>\n",
       "      <td>11</td>\n",
       "      <td>73</td>\n",
       "      <td>False</td>\n",
       "      <td>0</td>\n",
       "      <td>0.000000</td>\n",
       "      <td>True</td>\n",
       "      <td>1</td>\n",
       "      <td>False</td>\n",
       "      <td>0</td>\n",
       "      <td>0</td>\n",
       "      <td>0</td>\n",
       "      <td>5.727273</td>\n",
       "      <td>0.0</td>\n",
       "      <td>0.000000</td>\n",
       "      <td>True</td>\n",
       "    </tr>\n",
       "  </tbody>\n",
       "</table>\n",
       "</div>"
      ],
      "text/plain": [
       "       keyword                                       text_cleaned  \\\n",
       "0       weapon                  mention_token changing my weapon!   \n",
       "1       famine  url_token russian food crematoria provoke outr...   \n",
       "2     disaster  the mention_token quote website disaster. trie...   \n",
       "3      bombing  mention_token mention_token mention_token cong...   \n",
       "4  pandemonium  world class tgirl ass small_num - scene small_...   \n",
       "\n",
       "   text_length  word_count  char_count  has_emergency_word  \\\n",
       "0           33           4          33               False   \n",
       "1          115          11          87                True   \n",
       "2          143          22         153                True   \n",
       "3          140          19         151                True   \n",
       "4           71          11          73               False   \n",
       "\n",
       "   emergency_word_count  emergency_density  has_url  url_count  has_mention  \\\n",
       "0                     0           0.000000    False          0         True   \n",
       "1                     1           0.090909     True          2        False   \n",
       "2                     1           0.045455    False          0         True   \n",
       "3                     1           0.052632    False          0         True   \n",
       "4                     0           0.000000     True          1        False   \n",
       "\n",
       "   mention_count  exclamation_count  intense_punctuation  avg_word_length  \\\n",
       "0              1                  1                    0         7.500000   \n",
       "1              0                  0                    0         7.000000   \n",
       "2              1                  0                    0         6.000000   \n",
       "3              2                  0                    0         7.000000   \n",
       "4              0                  0                    0         5.727273   \n",
       "\n",
       "   urgency_score  stopword_ratio  keyword_in_text  \n",
       "0            1.5        0.250000             True  \n",
       "1            0.5        0.000000             True  \n",
       "2            0.0        0.181818             True  \n",
       "3            0.0        0.263158             True  \n",
       "4            0.0        0.000000             True  "
      ]
     },
     "execution_count": 32,
     "metadata": {},
     "output_type": "execute_result"
    }
   ],
   "source": [
    "X.head()"
   ]
  },
  {
   "cell_type": "markdown",
   "id": "43b1927a",
   "metadata": {},
   "source": [
    "### Crée un  gini \n",
    "PAS UTILE de créer un fichier pour lister les gini de chaque variable du jeu de donnée\n",
    "un dictionnaire en mémoire suffit\n"
   ]
  },
  {
   "cell_type": "code",
   "execution_count": null,
   "id": "673736ba",
   "metadata": {},
   "outputs": [
    {
     "name": "stdout",
     "output_type": "stream",
     "text": [
      "Fichier gini.csv créé avec les colonnes de df.\n"
     ]
    }
   ],
   "source": [
    "# if not os.path.exists('gini'):\n",
    "#     # Crée un DataFrame avec une ligne vide et les colonnes de df\n",
    "#     df_init = pd.DataFrame([['' for _ in df.columns]], columns=df.columns)\n",
    "#     df_init.to_csv('gini', index=False)\n",
    "#     print(\"Fichier gini.csv créé avec les colonnes de df.\")\n",
    "# else:\n",
    "#     print(\"Fichier gini.csv déjà existant.\")\n",
    "\n",
    "gini_scores = {}"
   ]
  },
  {
   "cell_type": "markdown",
   "id": "73c60753",
   "metadata": {},
   "source": [
    "### Variables booléennes"
   ]
  },
  {
   "cell_type": "code",
   "execution_count": null,
   "id": "da218ec6",
   "metadata": {},
   "outputs": [],
   "source": [
    "# col = X['keyword_in_text']\n",
    "\n",
    "def bool_lower_impurity(col):\n",
    "    yes = sum(1 for x in col if x is True)\n",
    "    no = sum(1 for x in col if x is False)\n",
    "    total = yes + no\n",
    "\n",
    "    if total == 0:\n",
    "        return 0  # éviter division par zéro\n",
    "\n",
    "    p_yes = yes / total\n",
    "    p_no = no / total\n",
    "\n",
    "    gini = 1 - p_yes**2 - p_no**2\n",
    "    return gini, p_yes, p_no"
   ]
  },
  {
   "cell_type": "code",
   "execution_count": 54,
   "id": "fdac3d0e",
   "metadata": {},
   "outputs": [
    {
     "name": "stdout",
     "output_type": "stream",
     "text": [
      "has_emergency_word\n",
      "p_no : 0.6426628260521684\n",
      "p_yes : 0.35733717394783165\n",
      "gini : 0.45929463612561744\n",
      "has_url\n",
      "p_no : 0.5076012161945911\n",
      "p_yes : 0.49239878380540886\n",
      "gini : 0.4998844430247262\n",
      "has_mention\n",
      "p_no : 0.7233157305168827\n",
      "p_yes : 0.2766842694831173\n",
      "gini : 0.4002601690074221\n",
      "keyword_in_text\n",
      "p_no : 0.2302768442950872\n",
      "p_yes : 0.7697231557049128\n",
      "gini : 0.3544988385531667\n"
     ]
    }
   ],
   "source": [
    "for col in df.select_dtypes(include='bool'):\n",
    "\n",
    "# for col in df.columns:\n",
    "    # if df[col].dtype == bool:\n",
    "        gini, p_yes, p_no = bool_lower_impurity(df[col])\n",
    "\n",
    "        print(f\"{col}\\np_no : {p_no}\\np_yes : {p_yes}\\ngini : {gini}\")"
   ]
  },
  {
   "cell_type": "markdown",
   "id": "711a424c",
   "metadata": {},
   "source": [
    "### Variables texte"
   ]
  },
  {
   "cell_type": "code",
   "execution_count": null,
   "id": "202b5d82",
   "metadata": {},
   "outputs": [],
   "source": [
    "\n",
    "for col in df.select_dtypes(include='object'):\n",
    "    # Appeler une fonction pour les colonnes texte"
   ]
  },
  {
   "cell_type": "code",
   "execution_count": null,
   "id": "eef4618c",
   "metadata": {},
   "outputs": [],
   "source": []
  }
 ],
 "metadata": {
  "kernelspec": {
   "display_name": "base",
   "language": "python",
   "name": "python3"
  },
  "language_info": {
   "codemirror_mode": {
    "name": "ipython",
    "version": 3
   },
   "file_extension": ".py",
   "mimetype": "text/x-python",
   "name": "python",
   "nbconvert_exporter": "python",
   "pygments_lexer": "ipython3",
   "version": "3.12.4"
  }
 },
 "nbformat": 4,
 "nbformat_minor": 5
}
