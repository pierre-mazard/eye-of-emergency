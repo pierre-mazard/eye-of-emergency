{
 "cells": [
  {
   "cell_type": "markdown",
   "id": "683acddf",
   "metadata": {},
   "source": [
    "# Algorithme de decision tree\n",
    "\n",
    "1. Choix de la variable racine\n",
    "celle qui permet de mieux séparer les données\n",
    "- teste chaque variable seule\n",
    "- sélectionne celle qui donne des feuilles avec la plus faible impureté\n",
    "\n",
    "**Feuille pure** ne contient que des 1 ou que des 0\n",
    "**Feuille impure** contient un mélange de 1 et de 0"
   ]
  },
  {
   "cell_type": "code",
   "execution_count": null,
   "id": "da218ec6",
   "metadata": {},
   "outputs": [],
   "source": [
    "def lower_impurity():\n",
    "    pass"
   ]
  },
  {
   "cell_type": "markdown",
   "id": "2d5477a0",
   "metadata": {},
   "source": []
  },
  {
   "cell_type": "markdown",
   "metadata": {},
   "source": []
  }
 ],
 "metadata": {
  "kernelspec": {
   "display_name": "base",
   "language": "python",
   "name": "python3"
  },
  "language_info": {
   "name": "python",
   "version": "3.12.4"
  }
 },
 "nbformat": 4,
 "nbformat_minor": 5
}
